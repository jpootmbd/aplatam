{
 "cells": [
  {
   "cell_type": "code",
   "execution_count": null,
   "id": "a9a0964d-262d-46a4-8c88-db7985f7ec73",
   "metadata": {},
   "outputs": [],
   "source": []
  }
 ],
 "metadata": {
  "kernelspec": {
   "display_name": "",
   "name": ""
  },
  "language_info": {
   "name": ""
  }
 },
 "nbformat": 4,
 "nbformat_minor": 5
}
